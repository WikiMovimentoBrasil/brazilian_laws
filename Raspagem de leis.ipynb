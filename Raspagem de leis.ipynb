{
 "cells": [
  {
   "cell_type": "code",
   "execution_count": null,
   "metadata": {},
   "outputs": [],
   "source": [
    "# Import the libraries needed to run the script\n",
    "# We use Selenium with Google Chrome, but maybe other scrappers can be used as discrepancy of the user\n",
    "# We use the time library to give a waiting time between Selenium clicking in a button and waiting for the page to load. The Selenium Waits seemed to not work, but others can test its use if they find a way to make it work properly\n",
    "import undetected_chromedriver as uc\n",
    "import time"
   ]
  },
  {
   "cell_type": "code",
   "execution_count": null,
   "metadata": {},
   "outputs": [],
   "source": [
    "# Define options to driver\n",
    "options = uc.ChromeOptions()\n",
    "options.binary_location = 'C:\\Program Files\\Google\\Chrome\\Application\\chrome.exe'\n",
    "options.add_argument('ignore-certificate-errors')\n",
    "\n",
    "# Initiate the webdriver, here we use Google Chrome\n",
    "driver = uc.Chrome(chrome_options = options)\n",
    "\n",
    "# Go to the initial page of the Palácio do Planalto legislation search website, you might get a captcha; Do it\n",
    "driver.get(\"https://legislacao.presidencia.gov.br/\")\n",
    "\n",
    "# Choose which type of legislation you are interested in fetching, laws, for instance;\n",
    "# Click on the \"Pesquisa Avançada\" button to customize the query as you like;\n",
    "# The content of the page will be loaded, showing the laws by the most recent to the oldest, 10 per page.\n",
    "# If something went wrong with the script, meaning that the it is not being able to click on the next page button, do as follows:\n",
    "### Stop the script and close the driver window\n",
    "### Re-run this section\n",
    "### Check for the date printed in the last line and, on the driver page, change the \"De\" and \"Até\" dates on the \"Pesquisa Avançada\" panel to 01/01/1500 and a day after the last date printed, respectivelly, and click \"Pesquisar\"\n",
    "### Run the script"
   ]
  },
  {
   "cell_type": "code",
   "execution_count": null,
   "metadata": {
    "scrolled": true
   },
   "outputs": [],
   "source": [
    "for i in range(2880):\n",
    "    # Try to fetch the information, if not, give some time and try again\n",
    "    try:\n",
    "        # Find a top element of the list\n",
    "        div_tags = driver.find_elements_by_class_name(\"w-100\")\n",
    "        \n",
    "        # The first two and last two elements are part of the page and not the list, so ignore them\n",
    "        for div_tag in div_tags[2:-2]:\n",
    "            try:\n",
    "                # Get the name of the law. This name may need a cleanning\n",
    "                name = div_tag.find_element_by_tag_name(\"h4\").text\n",
    "                \n",
    "                # Get the links to the record sheet of the law, as well as to the full text of it\n",
    "                ul = div_tag.find_element_by_tag_name(\"ul\").find_elements_by_tag_name(\"a\")\n",
    "                ficha = ul[0].get_attribute(\"href\")\n",
    "                text = ul[1].get_attribute(\"href\")\n",
    "                \n",
    "                # Print to the console or to a file\n",
    "                print(\"%s\\t%s\\t%s\"%(name,ficha,text))\n",
    "            except:\n",
    "                pass\n",
    "        \n",
    "        # Click on the last button with class name = \"page-link\"; This button is the \"Next-page\" button.\n",
    "        driver.find_elements_by_class_name(\"page-link\")[-1].click()\n",
    "        \n",
    "        # Give some time to load the page; this time is arbitrary\n",
    "        time.sleep(1)\n",
    "    except:\n",
    "        time.sleep(2)"
   ]
  },
  {
   "cell_type": "code",
   "execution_count": null,
   "metadata": {},
   "outputs": [],
   "source": []
  }
 ],
 "metadata": {
  "kernelspec": {
   "display_name": "Python 3",
   "language": "python",
   "name": "python3"
  },
  "language_info": {
   "codemirror_mode": {
    "name": "ipython",
    "version": 3
   },
   "file_extension": ".py",
   "mimetype": "text/x-python",
   "name": "python",
   "nbconvert_exporter": "python",
   "pygments_lexer": "ipython3",
   "version": "3.9.2"
  }
 },
 "nbformat": 4,
 "nbformat_minor": 4
}
