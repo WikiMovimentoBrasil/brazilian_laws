{
 "cells": [
  {
   "cell_type": "code",
   "execution_count": 72,
   "metadata": {},
   "outputs": [],
   "source": [
    "import requests\n",
    "import time\n",
    "import re\n",
    "from bs4 import BeautifulSoup\n",
    "import undetected_chromedriver as uc\n",
    "from selenium import webdriver\n",
    "from selenium.webdriver.chrome.options import Options\n",
    "from selenium.webdriver.common.by import By\n",
    "from selenium.webdriver.support.ui import WebDriverWait\n",
    "from selenium.webdriver.support import expected_conditions as EC"
   ]
  },
  {
   "cell_type": "code",
   "execution_count": 73,
   "metadata": {},
   "outputs": [],
   "source": [
    "class law_presidencia:\n",
    "    def __init__(self):  \n",
    "        self.titulo = \"\"\n",
    "        self.data_assinatura = \"\"\n",
    "        self.ementa = \"\"\n",
    "        self.situacao = \"\"\n",
    "        self.chefe_governo = \"\"\n",
    "        self.origem = \"\"\n",
    "        self.data_publicacao = \"\"\n",
    "        self.fonte = \"\"\n",
    "        self.fonte_link = \"\"\n",
    "        self.texto_integral = \"\"\n",
    "        self.referenda = \"\"\n",
    "        self.alteracao = \"\"\n",
    "        self.correlacao = \"\"\n",
    "        self.veto = \"\"\n",
    "        self.assunto = \"\"\n",
    "        self.classificacao_direito = \"\"\n",
    "        self.obs = \"\"\n",
    "        \n",
    "    def print_self(self):\n",
    "        return(self.titulo + \"*\" + self.data_assinatura + \"*\" + self.ementa + \"*\" + self.situacao + \"*\" \\\n",
    "              + self.chefe_governo + \"*\" + self.origem + \"*\" + self.data_publicacao + \"*\" \\\n",
    "              + self.fonte + \"*\" + self.fonte_link + \"*\" + self.texto_integral + \"*\" \\\n",
    "              + self.referenda + \"*\" + self.alteracao + \"*\" + self.correlacao + \"*\" \\\n",
    "              + self.veto + \"*\" + self.assunto + \"*\" + self.classificacao_direito + \"*\" \\\n",
    "              + self.obs + \"\\n\")"
   ]
  },
  {
   "cell_type": "code",
   "execution_count": 74,
   "metadata": {},
   "outputs": [],
   "source": [
    "dictionary = {\n",
    "    \"Data de assinatura:\":       \"data_assinatura\",\n",
    "    \"Ementa:\":                   \"ementa\",\n",
    "    \"Situação:\":                 \"situacao\",\n",
    "    \"Chefe de Governo:\":         \"chefe_governo\",\n",
    "    \"Origem:\":                   \"origem\",\n",
    "    \"Data de Publicação:\":       \"data_publicacao\",\n",
    "    \"Referenda:\":                \"referenda\",\n",
    "    \"Alteração:\":                \"alteracao\",\n",
    "    \"Correlação:\":               \"correlacao\", \n",
    "    \"Veto:\":                     \"veto\", \n",
    "    \"Assunto:\":                  \"assunto\", \n",
    "    \"Classificação de direito:\": \"classificacao_direito\", \n",
    "    \"Observação:\":               \"obs\"\n",
    "}"
   ]
  },
  {
   "cell_type": "code",
   "execution_count": 75,
   "metadata": {},
   "outputs": [],
   "source": [
    "laws = []\n",
    "laws_gone_wrong = []"
   ]
  },
  {
   "cell_type": "code",
   "execution_count": 76,
   "metadata": {},
   "outputs": [],
   "source": [
    "options = uc.ChromeOptions()\n",
    "options.add_argument('ignore-certificate-errors')\n",
    "driver = uc.Chrome(chrome_options = options)\n",
    "req = driver.get(\"https://legislacao.presidencia.gov.br/atos/?tipo=DEL&numero=547&ano=1969&data=18/04/1969&ato=cb9QzYU5UejRVTc05\")"
   ]
  },
  {
   "cell_type": "code",
   "execution_count": 77,
   "metadata": {},
   "outputs": [],
   "source": [
    "def scrape_page_presidencia(url):\n",
    "    driver.get(url)\n",
    "    element_present = EC.presence_of_element_located((By.ID, 'barra-brasil'))\n",
    "    WebDriverWait(driver, 10).until(element_present)\n",
    "\n",
    "    current_law = law_presidencia()\n",
    "    soup = BeautifulSoup(driver.page_source, \"html.parser\")\n",
    "\n",
    "    tags = soup.findAll('h2')\n",
    "    \n",
    "    time.sleep(0.5)\n",
    "    \n",
    "    current_law.titulo = soup.find('h1').text.strip()\n",
    "\n",
    "    for tag in tags:\n",
    "        tag_text = tag.text.strip()\n",
    "        value = tag.find_next().text.strip()\n",
    "        value = re.sub(' +', ' ', value)\n",
    "        value = value.replace('\\n', '').replace('\\r', '').capitalize()\n",
    "        \n",
    "        if tag_text == \"Link:\":\n",
    "            current_law.texto_integral = tag.find_next().find('a')['href']\n",
    "        elif tag_text == \"Fonte:\":\n",
    "            current_law.fonte = value\n",
    "            try:\n",
    "                current_law.fonte_link = tag.find_next().find('a')['href']\n",
    "            except:\n",
    "                current_law.fonte_link = \"\"\n",
    "        \n",
    "        elif tag_text in dictionary:\n",
    "            if(value == \"---\"):\n",
    "                value = \"\"\n",
    "            setattr(current_law, dictionary[tag_text], value)\n",
    "    return current_law"
   ]
  },
  {
   "cell_type": "code",
   "execution_count": 78,
   "metadata": {},
   "outputs": [
    {
     "name": "stdout",
     "output_type": "stream",
     "text": [
      "100\n",
      "200\n",
      "300\n",
      "400\n",
      "500\n",
      "600\n",
      "700\n",
      "800\n",
      "900\n",
      "1000\n",
      "1100\n",
      "1200\n",
      "1300\n",
      "1400\n",
      "1500\n",
      "1600\n",
      "1700\n",
      "1800\n",
      "1900\n",
      "2000\n",
      "2100\n",
      "2200\n",
      "2300\n",
      "2400\n",
      "2500\n",
      "2600\n",
      "2700\n",
      "2800\n",
      "2900\n",
      "3000\n",
      "3100\n",
      "3200\n",
      "3300\n",
      "3400\n",
      "3500\n",
      "3600\n",
      "3700\n"
     ]
    }
   ],
   "source": [
    "file = open(\"links_leis_federais_planalto.csv\", \"r\")\n",
    "\n",
    "lines = file.readlines()[11600:]\n",
    "\n",
    "i =0\n",
    "for line in lines:\n",
    "    url = line.split(\";\")[1]\n",
    "    laws.append(scrape_page_presidencia(url))\n",
    "    i += 1\n",
    "    if (i % 100 == 0):\n",
    "        print(i)"
   ]
  },
  {
   "cell_type": "code",
   "execution_count": 79,
   "metadata": {},
   "outputs": [],
   "source": [
    "saida = open(\"saida_socorro.txt\", \"w\")\n",
    "saida.write(\"nome*data assinatura*ementa*situacao*chefe_governo*origem*data_publicacao\" +\\\n",
    "           \"*fonte*fonte_link*texto integral*referenda*alteracao*correlacao*veto\" +\\\n",
    "           \"*assunto*cassificacao direito*observacao*\")\n",
    "for l in laws:\n",
    "    saida.write(l.titulo + \"*\" + l.data_assinatura + \"*\" + l.ementa + \"*\" + l.situacao + \"*\" \\\n",
    "              + l.chefe_governo + \"*\" + l.origem + \"*\" + l.data_publicacao + \"*\" \\\n",
    "              + l.fonte + \"*\" + l.fonte_link + \"*\" + l.texto_integral + \"*\" \\\n",
    "              + l.referenda + \"*\" + l.alteracao + \"*\" + l.correlacao + \"*\" \\\n",
    "              + l.veto + \"*\" + l.assunto + \"*\" + l.classificacao_direito + \"*\" \\\n",
    "              + l.obs + \"\\n\")"
   ]
  },
  {
   "cell_type": "code",
   "execution_count": null,
   "metadata": {},
   "outputs": [],
   "source": []
  }
 ],
 "metadata": {
  "kernelspec": {
   "display_name": "Python 3",
   "language": "python",
   "name": "python3"
  },
  "language_info": {
   "codemirror_mode": {
    "name": "ipython",
    "version": 3
   },
   "file_extension": ".py",
   "mimetype": "text/x-python",
   "name": "python",
   "nbconvert_exporter": "python",
   "pygments_lexer": "ipython3",
   "version": "3.8.5"
  }
 },
 "nbformat": 4,
 "nbformat_minor": 4
}
